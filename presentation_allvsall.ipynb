{
 "cells": [
  {
   "cell_type": "code",
   "execution_count": 146,
   "metadata": {
    "collapsed": true
   },
   "outputs": [],
   "source": [
    "#Multi class classification strategy\n",
    "#Comparing original kesler (one vs rest or one vs all)\n",
    "#and\n",
    "#all vs all method (ie picking any 2 classes at a time)"
   ]
  },
  {
   "cell_type": "code",
   "execution_count": 147,
   "metadata": {
    "collapsed": false
   },
   "outputs": [],
   "source": [
    "import os, struct\n",
    "import matplotlib as plt\n",
    "from array import array as pyarray\n",
    "import numpy as np\n",
    "import time\n",
    "from pylab import *\n",
    "import pandas as pd\n",
    "from scipy.stats import multivariate_normal\n",
    "import sys\n",
    "\n"
   ]
  },
  {
   "cell_type": "code",
   "execution_count": 148,
   "metadata": {
    "collapsed": false
   },
   "outputs": [
    {
     "name": "stdout",
     "output_type": "stream",
     "text": [
      "X [[ 2  2]\n",
      " [ 2 -2]\n",
      " [-2  2]]\n"
     ]
    }
   ],
   "source": [
    "X = np.array([2,2])\n",
    "X = np.row_stack((X,[2,-2]))\n",
    "X = np.row_stack((X,[-2,2]))\n",
    "\n",
    "C = ['red','blue','black']\n",
    "print \"X\",X\n"
   ]
  },
  {
   "cell_type": "code",
   "execution_count": 149,
   "metadata": {
    "collapsed": false
   },
   "outputs": [
    {
     "data": {
      "image/png": "[encoded data removed]",
      "text/plain": [
       "<matplotlib.figure.Figure at 0x7faa1f2cb850>"
      ]
     },
     "metadata": {},
     "output_type": "display_data"
    }
   ],
   "source": [
    "fig = plt.figure()\n",
    "plt.scatter(X[0,0],X[0,1],s=100,color='red')\n",
    "plt.scatter(X[1,0],X[1,1],s=100,color='blue')\n",
    "plt.scatter(X[2,0],X[2,1],s=100,color='black')\n",
    "plt.ylim([-3,3])\n",
    "plt.xlim([-3,3])\n",
    "    \n",
    "plt.show()"
   ]
  },
  {
   "cell_type": "code",
   "execution_count": 150,
   "metadata": {
    "collapsed": false
   },
   "outputs": [
    {
     "name": "stdout",
     "output_type": "stream",
     "text": [
      "T [[ 1 -1 -1]\n",
      " [-1  1 -1]\n",
      " [-1 -1  1]]\n"
     ]
    }
   ],
   "source": [
    "T = np.array([1, -1, -1])\n",
    "T = np.row_stack((T,[-1,1,-1]))\n",
    "T = np.row_stack((T,[-1,-1,1]))\n",
    "print \"T\",T"
   ]
  },
  {
   "cell_type": "code",
   "execution_count": 151,
   "metadata": {
    "collapsed": false
   },
   "outputs": [
    {
     "name": "stdout",
     "output_type": "stream",
     "text": [
      "Xa [[ 1  2  2]\n",
      " [ 1  2 -2]\n",
      " [ 1 -2  2]]\n"
     ]
    }
   ],
   "source": [
    "O = np.array([1,1,1])\n",
    "Xa = np.column_stack((O,X))\n",
    "print \"Xa\",Xa"
   ]
  },
  {
   "cell_type": "code",
   "execution_count": 152,
   "metadata": {
    "collapsed": false
   },
   "outputs": [
    {
     "name": "stdout",
     "output_type": "stream",
     "text": [
      "[-1.   0.5  0.5]\n"
     ]
    }
   ],
   "source": [
    "Y = np.linalg.pinv(Xa)\n",
    "Wr = np.dot(Y,T[:,0])\n",
    "print Wr"
   ]
  },
  {
   "cell_type": "code",
   "execution_count": 153,
   "metadata": {
    "collapsed": false
   },
   "outputs": [
    {
     "data": {
      "image/png": "[encoded data removed]",
      "text/plain": [
       "<matplotlib.figure.Figure at 0x7faa1ef96390>"
      ]
     },
     "metadata": {},
     "output_type": "display_data"
    }
   ],
   "source": [
    "xx = np.arange(-3,3,0.1)\n",
    "yy = (-Wr[0] - Wr[1]*xx)/Wr[2]\n",
    "fig = plt.figure()\n",
    "plt.plot(xx,yy)\n",
    "plt.scatter(X[0,0],X[0,1],s=100,color='red')\n",
    "plt.scatter(X[1,0],X[1,1],s=100,color='grey')\n",
    "plt.scatter(X[2,0],X[2,1],s=100,color='grey')\n",
    "plt.xlim(-3,3)\n",
    "plt.ylim(-3,3)\n",
    "\n",
    "plt.show()"
   ]
  },
  {
   "cell_type": "code",
   "execution_count": 154,
   "metadata": {
    "collapsed": false
   },
   "outputs": [
    {
     "name": "stdout",
     "output_type": "stream",
     "text": [
      "[  2.77555756e-16  -5.55111512e-17  -5.00000000e-01]\n"
     ]
    }
   ],
   "source": [
    "Y = np.linalg.pinv(Xa)\n",
    "Wu = np.dot(Y,T[:,1])\n",
    "print Wu"
   ]
  },
  {
   "cell_type": "code",
   "execution_count": null,
   "metadata": {
    "collapsed": true
   },
   "outputs": [],
   "source": []
  },
  {
   "cell_type": "code",
   "execution_count": 155,
   "metadata": {
    "collapsed": false
   },
   "outputs": [
    {
     "data": {
      "image/png": "[encoded data removed]",
      "text/plain": [
       "<matplotlib.figure.Figure at 0x7faa1f743190>"
      ]
     },
     "metadata": {},
     "output_type": "display_data"
    }
   ],
   "source": [
    "xx = np.arange(-3,3,0.1)\n",
    "yy = (-Wu[0] - Wu[1]*xx)/Wu[2]\n",
    "fig = plt.figure()\n",
    "plt.plot(xx,yy)\n",
    "plt.scatter(X[0,0],X[0,1],s=100,color='grey')\n",
    "plt.scatter(X[1,0],X[1,1],s=100,color='blue')\n",
    "plt.scatter(X[2,0],X[2,1],s=100,color='grey')\n",
    "plt.xlim(-3,3)\n",
    "plt.ylim(-3,3)\n",
    "\n",
    "plt.show()"
   ]
  },
  {
   "cell_type": "code",
   "execution_count": 156,
   "metadata": {
    "collapsed": false
   },
   "outputs": [
    {
     "name": "stdout",
     "output_type": "stream",
     "text": [
      "[  1.11022302e-16  -5.00000000e-01   8.59551441e-17]\n"
     ]
    }
   ],
   "source": [
    "Y = np.linalg.pinv(Xa)\n",
    "Wk = np.dot(Y,T[:,2])\n",
    "print Wk"
   ]
  },
  {
   "cell_type": "code",
   "execution_count": 157,
   "metadata": {
    "collapsed": false
   },
   "outputs": [
    {
     "data": {
      "image/png": "[encoded data removed]",
      "text/plain": [
       "<matplotlib.figure.Figure at 0x7faa1ee81190>"
      ]
     },
     "metadata": {},
     "output_type": "display_data"
    }
   ],
   "source": [
    "xx = np.arange(-3,3,0.1)\n",
    "yy = (-Wk[0] - Wk[1]*xx)/Wk[2]\n",
    "fig = plt.figure()\n",
    "plt.plot(xx,yy)\n",
    "plt.scatter(X[0,0],X[0,1],s=100,color='grey')\n",
    "plt.scatter(X[1,0],X[1,1],s=100,color='grey')\n",
    "plt.scatter(X[2,0],X[2,1],s=100,color='black')\n",
    "plt.xlim(-3,3)\n",
    "plt.ylim(-3,3)\n",
    "\n",
    "plt.show()"
   ]
  },
  {
   "cell_type": "code",
   "execution_count": 158,
   "metadata": {
    "collapsed": false
   },
   "outputs": [
    {
     "data": {
      "image/png": "[encoded data removed]",
      "text/plain": [
       "<matplotlib.figure.Figure at 0x7faa1ef058d0>"
      ]
     },
     "metadata": {},
     "output_type": "display_data"
    }
   ],
   "source": [
    "xx = np.arange(-3,3,0.1)\n",
    "yyk = (-Wk[0] - Wk[1]*xx)/Wk[2]\n",
    "yyu = (-Wu[0] - Wu[1]*xx)/Wu[2]\n",
    "yyr = (-Wr[0] - Wr[1]*xx)/Wr[2]\n",
    "fig = plt.figure()\n",
    "plt.plot(xx,yyk,color='black')\n",
    "plt.plot(xx,yyu,color='blue')\n",
    "plt.plot(xx,yyr,color='red')\n",
    "\n",
    "Z = [1 , 0.5 , 0.5]\n",
    "plt.scatter(Z[1],Z[2],s=100,color='grey')\n",
    "plt.xlim([-3,3])\n",
    "plt.ylim([-3,3])\n",
    "plt.show()\n"
   ]
  },
  {
   "cell_type": "code",
   "execution_count": null,
   "metadata": {
    "collapsed": true
   },
   "outputs": [],
   "source": []
  },
  {
   "cell_type": "code",
   "execution_count": null,
   "metadata": {
    "collapsed": true
   },
   "outputs": [],
   "source": []
  },
  {
   "cell_type": "code",
   "execution_count": 159,
   "metadata": {
    "collapsed": false
   },
   "outputs": [
    {
     "name": "stdout",
     "output_type": "stream",
     "text": [
      "Tpred [-0.50000000000000022, -0.24999999999999981, -0.24999999999999978]\n"
     ]
    }
   ],
   "source": [
    "\n",
    "Tr = np.dot(Z,Wr)\n",
    "Tu = np.dot(Z,Wu)\n",
    "Tk = np.dot(Z,Wk)\n",
    "Tpred=[Tr,Tu,Tk]\n",
    "print \"Tpred\", Tpred\n",
    "#first of all, Tr is the most -ve =>not red , it should be the other way round\n",
    "#besides, Tk and Tu have the same value, so inconclusive"
   ]
  },
  {
   "cell_type": "code",
   "execution_count": 160,
   "metadata": {
    "collapsed": false
   },
   "outputs": [
    {
     "name": "stdout",
     "output_type": "stream",
     "text": [
      "XRU\n",
      "[[ 2  2]\n",
      " [ 2 -2]]\n",
      "TRU\n",
      "[[ 1 -1]\n",
      " [-1  1]]\n"
     ]
    }
   ],
   "source": [
    "XRU = np.array([2,2])\n",
    "XRU = np.row_stack((XRU,[2,-2]))\n",
    "TRU = np.array([1,-1])\n",
    "TRU = np.row_stack((TRU,[-1,1]))\n",
    "print \"XRU\\n\", XRU\n",
    "print \"TRU\\n\", TRU"
   ]
  },
  {
   "cell_type": "code",
   "execution_count": 161,
   "metadata": {
    "collapsed": false
   },
   "outputs": [
    {
     "name": "stdout",
     "output_type": "stream",
     "text": [
      "WRU [  4.16333634e-17  -2.77555756e-17   5.00000000e-01]\n"
     ]
    }
   ],
   "source": [
    "XaRU = np.column_stack(([1,1],XRU))\n",
    "YRU = np.linalg.pinv(XaRU)\n",
    "WRU = np.dot(YRU,TRU[:,0])\n",
    "print \"WRU\", WRU"
   ]
  },
  {
   "cell_type": "code",
   "execution_count": 162,
   "metadata": {
    "collapsed": false
   },
   "outputs": [
    {
     "data": {
      "image/png": "[encoded data removed]",
      "text/plain": [
       "<matplotlib.figure.Figure at 0x7faa1ef05d10>"
      ]
     },
     "metadata": {},
     "output_type": "display_data"
    }
   ],
   "source": [
    "xx = np.arange(-3,3,0.1)\n",
    "yy = (-WRU[0] - WRU[1]*xx)/WRU[2]\n",
    "fig = plt.figure()\n",
    "plt.plot(xx,yy,color='black')\n",
    "plt.scatter(2,2,s=100,color='red')\n",
    "plt.scatter(2,-2,s=100,color='blue')\n",
    "plt.xlim([-3,3])\n",
    "plt.ylim([-3,3])\n",
    "plt.show()"
   ]
  },
  {
   "cell_type": "code",
   "execution_count": 163,
   "metadata": {
    "collapsed": false
   },
   "outputs": [
    {
     "name": "stdout",
     "output_type": "stream",
     "text": [
      "XRK\n",
      "[[ 2  2]\n",
      " [-2  2]]\n",
      "TRK\n",
      "[[ 1 -1]\n",
      " [-1  1]]\n"
     ]
    }
   ],
   "source": [
    "XRK = np.array([2,2])\n",
    "XRK = np.row_stack((XRK,[-2,2]))\n",
    "TRK = np.array([1,-1])\n",
    "TRK = np.row_stack((TRK,[-1,1]))\n",
    "print \"XRK\\n\", XRK\n",
    "print \"TRK\\n\", TRK"
   ]
  },
  {
   "cell_type": "code",
   "execution_count": 164,
   "metadata": {
    "collapsed": false
   },
   "outputs": [
    {
     "name": "stdout",
     "output_type": "stream",
     "text": [
      "WRK [  4.16333634e-17   5.00000000e-01   2.77555756e-17]\n"
     ]
    }
   ],
   "source": [
    "XaRK = np.column_stack(([1,1],XRK))\n",
    "YRK = np.linalg.pinv(XaRK)\n",
    "WRK = np.dot(YRK,TRK[:,0])\n",
    "print \"WRK\", WRK"
   ]
  },
  {
   "cell_type": "code",
   "execution_count": 165,
   "metadata": {
    "collapsed": false
   },
   "outputs": [
    {
     "data": {
      "image/png": "[encoded data removed]",
      "text/plain": [
       "<matplotlib.figure.Figure at 0x7faa1f3003d0>"
      ]
     },
     "metadata": {},
     "output_type": "display_data"
    }
   ],
   "source": [
    "xx = np.arange(-3,3,0.1)\n",
    "yy = (-WRK[0] - WRK[1]*xx)/WRK[2]\n",
    "fig = plt.figure()\n",
    "plt.plot(xx,yy,color='blue')\n",
    "plt.scatter(2,2,s=100,color='red')\n",
    "plt.scatter(-2,2,s=100,color='black')\n",
    "plt.xlim([-3,3])\n",
    "plt.ylim([-3,3])\n",
    "plt.show()"
   ]
  },
  {
   "cell_type": "code",
   "execution_count": 166,
   "metadata": {
    "collapsed": false
   },
   "outputs": [
    {
     "name": "stdout",
     "output_type": "stream",
     "text": [
      "XKU\n",
      "[[-2  2]\n",
      " [ 2 -2]]\n",
      "TKU\n",
      "[[ 1 -1]\n",
      " [-1  1]]\n"
     ]
    }
   ],
   "source": [
    "XKU = np.array([-2,2])\n",
    "XKU = np.row_stack((XKU,[2,-2]))\n",
    "TKU = np.array([1,-1])\n",
    "TKU = np.row_stack((TKU,[-1,1]))\n",
    "print \"XKU\\n\", XKU\n",
    "print \"TKU\\n\", TKU"
   ]
  },
  {
   "cell_type": "code",
   "execution_count": 167,
   "metadata": {
    "collapsed": false
   },
   "outputs": [
    {
     "name": "stdout",
     "output_type": "stream",
     "text": [
      "WKU [ -5.55111512e-17  -2.50000000e-01   2.50000000e-01]\n"
     ]
    }
   ],
   "source": [
    "XaKU = np.column_stack(([1,1],XKU))\n",
    "YKU = np.linalg.pinv(XaKU)\n",
    "WKU = np.dot(YKU,TKU[:,0])\n",
    "print \"WKU\", WKU"
   ]
  },
  {
   "cell_type": "code",
   "execution_count": 168,
   "metadata": {
    "collapsed": false
   },
   "outputs": [
    {
     "data": {
      "image/png": "[encoded data removed]",
      "text/plain": [
       "<matplotlib.figure.Figure at 0x7faa1f16ea90>"
      ]
     },
     "metadata": {},
     "output_type": "display_data"
    }
   ],
   "source": [
    "xx = np.arange(-3,3,0.1)\n",
    "yy = (-WKU[0] - WKU[1]*xx)/WKU[2]\n",
    "fig = plt.figure()\n",
    "plt.plot(xx,yy,color='red')\n",
    "plt.scatter(-2,2,s=100,color='black')\n",
    "plt.scatter(2,-2,s=100,color='blue')\n",
    "plt.xlim([-3,3])\n",
    "plt.ylim([-3,3])\n",
    "plt.show()"
   ]
  },
  {
   "cell_type": "code",
   "execution_count": 169,
   "metadata": {
    "collapsed": false
   },
   "outputs": [
    {
     "name": "stdout",
     "output_type": "stream",
     "text": [
      "TRK 0.25\n",
      "TKU -5.55111512313e-17\n",
      "TRU 0.25\n"
     ]
    }
   ],
   "source": [
    "Z = [1, 0.5, 0.5]\n",
    "TRK = np.dot(Z,WRK)\n",
    "print \"TRK\",TRK\n",
    "TKU = np.dot(Z,WKU)\n",
    "print \"TKU\", TKU\n",
    "TRU = np.dot(Z,WRU)\n",
    "print \"TRU\", TRU\n",
    "\n",
    "#TPN - P is positive class N is negarive class  If TPN > 0, class is P.\n",
    "#Then take a majority vote"
   ]
  },
  {
   "cell_type": "code",
   "execution_count": 170,
   "metadata": {
    "collapsed": false
   },
   "outputs": [
    {
     "data": {
      "image/png": "[encoded data removed]",
      "text/plain": [
       "<matplotlib.figure.Figure at 0x7faa1f16ec10>"
      ]
     },
     "metadata": {},
     "output_type": "display_data"
    }
   ],
   "source": [
    "Z = [1, -1,-1]\n",
    "fig = plt.figure()\n",
    "plt.scatter(2,2,s=100,color='red')\n",
    "plt.scatter(2,-2,s=100,color='blue')\n",
    "plt.scatter(-2,2,s=100,color='black')\n",
    "plt.scatter(Z[1],Z[2],s=100,color='grey')\n",
    "\n",
    "plt.xlim(-3,3)\n",
    "plt.ylim(-3,3)\n",
    "\n",
    "plt.show()\n",
    "\n"
   ]
  },
  {
   "cell_type": "code",
   "execution_count": 171,
   "metadata": {
    "collapsed": false
   },
   "outputs": [
    {
     "name": "stdout",
     "output_type": "stream",
     "text": [
      "[-2.0000000000000004, 0.50000000000000044, 0.49999999999999989]\n"
     ]
    }
   ],
   "source": [
    "Tpred_onevsall = [np.dot(Z,Wr),np.dot(Z,Wu),np.dot(Z,Wk)]\n",
    "print Tpred_onevsall\n",
    "#inconclusive, but atleast strongly confirms not red .\n",
    "#expected since equally close to black and blue but very far from red"
   ]
  },
  {
   "cell_type": "code",
   "execution_count": 172,
   "metadata": {
    "collapsed": false
   },
   "outputs": [
    {
     "name": "stdout",
     "output_type": "stream",
     "text": [
      "TRK -0.5\n",
      "TKU -5.55111512313e-17\n",
      "TRU -0.5\n"
     ]
    }
   ],
   "source": [
    "TRK = np.dot(Z,WRK)\n",
    "TKU = np.dot(Z,WKU)\n",
    "TRU = np.dot(Z,WRU)\n",
    "print \"TRK\", TRK\n",
    "print \"TKU\", TKU\n",
    "print \"TRU\", TRU\n",
    "# gives similar result\n"
   ]
  },
  {
   "cell_type": "code",
   "execution_count": 173,
   "metadata": {
    "collapsed": true
   },
   "outputs": [],
   "source": [
    "#How about computation time? \n",
    "#original method : N points * K kesler outputs = N*K, \n",
    "#with pseuodo inv matrix based classifier. It is almost close to N*1\n",
    "#allvsall method\n",
    "#Since this involves KC2 number of classifications performed over N/K points => N*(k-1) \n",
    "#what is the impact of fewer training points?"
   ]
  },
  {
   "cell_type": "code",
   "execution_count": 182,
   "metadata": {
    "collapsed": false
   },
   "outputs": [
    {
     "data": {
      "image/png": "[encoded data removed]",
      "text/plain": [
       "<matplotlib.figure.Figure at 0x7faa1f6846d0>"
      ]
     },
     "metadata": {},
     "output_type": "display_data"
    },
    {
     "data": {
      "image/png": "[encoded data removed]",
      "text/plain": [
       "<matplotlib.figure.Figure at 0x7faa1f6f4750>"
      ]
     },
     "metadata": {},
     "output_type": "display_data"
    }
   ],
   "source": [
    "n = np.arange(1,8,1)\n",
    "time_linear_onevsall = [0.96,1.04,0.99,0.89,0.91,1.06,0.78]\n",
    "time_linear_allvsall = [34.08,36.74,39.2,39.25,41.22,40,38.08]\n",
    "time_bayes_onevsall = [178.575,195.88,229,225,223,217,229]\n",
    "time_bayes_allvsall = [526.8,648.8,663,687,706,687,1020]\n",
    "\n",
    "acc_linear_onevsall = [14.31,22.53,38.77,41.84,52.55,62.66,63.07]\n",
    "acc_linear_allvsall = [30.7,47.3,68.3,82.75,83.14,84.33,85.57]\n",
    "acc_bayes_onevsall = [15.76,26.3,45.24,57.82,71.53,78.06,79.85]\n",
    "acc_bayes_allvsall = [31.33,48.14,68.81,82.86,83.7,85.42,86.11]\n",
    "\n",
    "\n",
    "plt.plot(n,acc_linear_onevsall,label=\"acc_linear_onevsall\")\n",
    "plt.plot(n,acc_linear_allvsall,label=\"acc_linear_allvsall\")\n",
    "plt.plot(n,acc_bayes_onevsall,label=\"acc_bayes_onevsall\")\n",
    "plt.plot(n,acc_bayes_allvsall,label=\"acc_bayes_allvsall\")\n",
    "plt.ylabel(\"Accuracy in %\")\n",
    "plt.xlabel(\"Number of Principle Component\")\n",
    "plt.title(\"accuracy of different classifiers\")\n",
    "plt.grid(\"on\")\n",
    "plt.legend()\n",
    "\n",
    "plt.show()\n",
    "\n",
    "fig = plt.figure()\n",
    "plt.plot(n,time_linear_onevsall,label=\"time_linear_onevsall\")\n",
    "plt.plot(n,time_linear_allvsall,label=\"time_linear_allvsall\")\n",
    "plt.plot(n,time_bayes_onevsall,label=\"time_bayes_onevsall\")\n",
    "plt.plot(n,time_bayes_allvsall,label=\"time_bayes_allvsall\")\n",
    "plt.ylabel(\"Time in seconds\")\n",
    "plt.xlabel(\"Number of Principle Component\")\n",
    "plt.title(\"run time of different classifiers\")\n",
    "plt.grid(\"on\")\n",
    "plt.legend()\n",
    "plt.show()"
   ]
  }
 ],
 "metadata": {
  "kernelspec": {
   "display_name": "Python 2",
   "language": "python",
   "name": "python2"
  },
  "language_info": {
   "codemirror_mode": {
    "name": "ipython",
    "version": 2
   },
   "file_extension": ".py",
   "mimetype": "text/x-python",
   "name": "python",
   "nbconvert_exporter": "python",
   "pygments_lexer": "ipython2",
   "version": "2.7.13"
  }
 },
 "nbformat": 4,
 "nbformat_minor": 2
}
